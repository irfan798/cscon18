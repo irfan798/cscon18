{
 "cells": [
  {
   "cell_type": "markdown",
   "metadata": {},
   "source": [
    "# Fonksiyonlar"
   ]
  },
  {
   "cell_type": "code",
   "execution_count": null,
   "metadata": {},
   "outputs": [],
   "source": [
    "def merhaba(): #isim ekle\n",
    "    print(\"merhaba dünya\")\n",
    "    \n",
    "merhaba()"
   ]
  },
  {
   "cell_type": "code",
   "execution_count": null,
   "metadata": {},
   "outputs": [],
   "source": [
    "def toplama(a,b):\n",
    "    print(a+b)\n",
    "    \n",
    "toplama(2,3)"
   ]
  },
  {
   "cell_type": "code",
   "execution_count": null,
   "metadata": {},
   "outputs": [],
   "source": [
    "def ortalama(a,b,c):\n",
    "    ortalama = (a+b+c)/3\n",
    "    print( ortalama )\n",
    "\n",
    "ortalama(1,5,3)"
   ]
  },
  {
   "cell_type": "code",
   "execution_count": null,
   "metadata": {},
   "outputs": [],
   "source": [
    "def liste_ortalama(liste):\n",
    "    eleman_sayisi = len(liste)\n",
    "    toplam = 0\n",
    "    \n",
    "    for eleman in liste: #sum(liste)\n",
    "        toplam = toplam + eleman\n",
    "    \n",
    "    ortalama = toplam / eleman_sayisi\n",
    "    print( ortalama )\n",
    "\n",
    "sayilar = [1,5,8,4,15]\n",
    "liste_ortalama(sayilar)"
   ]
  },
  {
   "cell_type": "code",
   "execution_count": null,
   "metadata": {},
   "outputs": [],
   "source": [
    "#scope\n",
    "b = 12\n",
    "\n",
    "def disaridan_al():\n",
    "    print(\"fonksiyon içi\", b)\n",
    "\n",
    "print(\"fonksiyon dışı\", b)"
   ]
  },
  {
   "cell_type": "code",
   "execution_count": null,
   "metadata": {},
   "outputs": [],
   "source": [
    "#scope2\n",
    "#a = 12\n",
    "def tanimla():\n",
    "    a = 5\n",
    "    print(\"fonksiyon içi\",a)\n",
    "    \n",
    "tanimla()\n",
    "print(\"fonksiyon dışı\",a)"
   ]
  },
  {
   "cell_type": "markdown",
   "metadata": {},
   "source": [
    "<img src=\"https://memegenerator.net/img/instances/400x/43590480.jpg\">"
   ]
  },
  {
   "cell_type": "markdown",
   "metadata": {},
   "source": [
    "## Peki fonksiyonlardan nasıl veri alırız"
   ]
  },
  {
   "cell_type": "code",
   "execution_count": null,
   "metadata": {},
   "outputs": [],
   "source": [
    "#return\n",
    "def sadece5():\n",
    "    return 5\n",
    "\n",
    "print( sadece5()+3 )"
   ]
  },
  {
   "cell_type": "code",
   "execution_count": null,
   "metadata": {},
   "outputs": [],
   "source": [
    "def kes():\n",
    "    print(\"burasi calisacak\")\n",
    "    return 3\n",
    "    print(\"burasi calismayacak\")\n",
    "    \n",
    "#kes()\n",
    "print(kes() + 2)"
   ]
  },
  {
   "cell_type": "code",
   "execution_count": null,
   "metadata": {},
   "outputs": [],
   "source": [
    "#ortalama fonksiyonunu düzenleyelim\n",
    "def ortalama2(liste):\n",
    "    return sum(liste)/len(liste)\n",
    "\n",
    "5+ortalama2( [2,4,6,8] )"
   ]
  },
  {
   "cell_type": "code",
   "execution_count": null,
   "metadata": {},
   "outputs": [],
   "source": [
    "#Not ortalama"
   ]
  },
  {
   "cell_type": "code",
   "execution_count": null,
   "metadata": {},
   "outputs": [],
   "source": [
    "#kalın ünlü\n",
    "def kalın_unlu_bul(isim):\n",
    "    kalın_ünlüler = [\"a\",\"ı\",\"o\", \"u\"]\n",
    "    for harf in isim:\n",
    "        print(harf, \"için deneme\")\n",
    "        \n",
    "        for kalın_ünlü in kalın_ünlüler:\n",
    "            print(harf, \"ile\", kalın_ünlü, \"karşılaştırılıyor\")\n",
    "            \n",
    "            if harf == kalın_ünlü:\n",
    "                print(\"bulundu\")\n",
    "                return True\n",
    "\n",
    "kalın_unlu_bul(\"hgfda\")    "
   ]
  },
  {
   "cell_type": "code",
   "execution_count": null,
   "metadata": {},
   "outputs": [],
   "source": [
    "#kalın ünlü\n",
    "def kalın_unlu_bul2(isim):\n",
    "    kalın_ünlüler = [\"a\",\"ı\",\"o\", \"u\"]\n",
    "    if any(harf in isim for harf in kalın_ünlüler):\n",
    "        print(\"bulundu\")\n",
    "        return True\n",
    "    else:\n",
    "        print(\"bulunamadı\")\n",
    "        return False\n",
    "kalın_unlu_bul2(\"irfan\")"
   ]
  },
  {
   "cell_type": "code",
   "execution_count": null,
   "metadata": {},
   "outputs": [],
   "source": [
    "#Recursive\n",
    "\n",
    "def say(sayi):\n",
    "    print(sayi)\n",
    "    \n",
    "    if sayi>10:\n",
    "        return\n",
    "    \n",
    "    say(sayi+1)\n",
    "    \n",
    "say(3)"
   ]
  },
  {
   "cell_type": "code",
   "execution_count": null,
   "metadata": {},
   "outputs": [],
   "source": [
    "def faktoriyal(n):\n",
    "    if n == 1:\n",
    "        return 1\n",
    "    else:\n",
    "        return n * faktoriyal(n-1)\n",
    "    \n",
    "faktoriyal(3)"
   ]
  },
  {
   "cell_type": "code",
   "execution_count": null,
   "metadata": {},
   "outputs": [],
   "source": [
    "def fib(n):\n",
    "    if n == 0:\n",
    "        return 0\n",
    "    elif n == 1:\n",
    "        return 1\n",
    "    else:\n",
    "        return fib(n-1) + fib(n-2)\n",
    "    \n",
    "fib(5)"
   ]
  },
  {
   "cell_type": "code",
   "execution_count": null,
   "metadata": {},
   "outputs": [],
   "source": []
  },
  {
   "cell_type": "markdown",
   "metadata": {},
   "source": [
    "[Python List Comprehension](https://www.programiz.com/python-programming/list-comprehension)"
   ]
  },
  {
   "cell_type": "markdown",
   "metadata": {},
   "source": [
    "# Dictionary"
   ]
  },
  {
   "cell_type": "code",
   "execution_count": null,
   "metadata": {},
   "outputs": [],
   "source": [
    "muz = {\"renk\" : \"sarı\", \"fiyat\": 8}\n",
    "muz[\"fiyat\"]\n",
    "muz.get(\"renk\")\n",
    "#muz[\"şekil\"] = \"muz şekli\""
   ]
  },
  {
   "cell_type": "code",
   "execution_count": null,
   "metadata": {},
   "outputs": [],
   "source": [
    "adam = {\"isim\" : \"Elon\",\n",
    "        \"soyisim\": \"Musk\",\n",
    "        \"yaş\" : 46,\n",
    "        \"şirket\": [\"Paypal\", \"SpaceX\", \"Tesla Motors\"]\n",
    "       }\n",
    "\n",
    "adam[\"isim\"]"
   ]
  },
  {
   "cell_type": "code",
   "execution_count": null,
   "metadata": {},
   "outputs": [],
   "source": [
    "ogrenci1 = {\n",
    "            'ad' : 'burak',\n",
    "           'soyad' : 'akın',\n",
    "           'no': 151240,\n",
    "           'dersler' : ['otelcilik', 'müzik']\n",
    "}\n",
    "\n",
    "ogrenci2 = {\n",
    "            'ad' : 'ayşe',\n",
    "           'soyad' : 'öztekin',\n",
    "           'no': 151245,\n",
    "           'dersler': ['fizik', 'kimya'] \n",
    "}\n",
    "\n",
    "\n",
    "ogrenciler = [ogrenci1, ogrenci2]\n",
    "\n",
    "for ogrenci in ogrenciler:\n",
    "    print(ogrenci['ad'], 'nin dersleri:')\n",
    "    \n",
    "    for ders in ogrenci['dersler']:\n",
    "        print(ders)"
   ]
  },
  {
   "cell_type": "markdown",
   "metadata": {},
   "source": [
    "[\"instagram dökümantasyonu\"](https://www.instagram.com/developer/endpoints/users/)"
   ]
  },
  {
   "cell_type": "code",
   "execution_count": null,
   "metadata": {},
   "outputs": [],
   "source": [
    "#api\n",
    "#https://api.instagram.com/v1/users/{user-id}/?access_token=ACCESS-TOKEN\n",
    "snoop = {\n",
    "    \"data\": {\n",
    "        \"id\": \"1574083\",\n",
    "        \"username\": \"snoopdogg\",\n",
    "        \"full_name\": \"Snoop Dogg\",\n",
    "        \"profile_picture\": \"http://distillery.s3.amazonaws.com/profiles/profile_1574083_75sq_1295469061.jpg\",\n",
    "        \"bio\": \"This is my bio\",\n",
    "        \"website\": \"http://snoopdogg.com\",\n",
    "        \"counts\": {\n",
    "            \"media\": 1320,\n",
    "            \"follows\": 420,\n",
    "            \"followed_by\": 3410\n",
    "            }\n",
    "        }\n",
    "}\n",
    "#https://www.instagram.com/irfan798/?__a=1\n",
    "#irfan = "
   ]
  },
  {
   "cell_type": "code",
   "execution_count": null,
   "metadata": {},
   "outputs": [],
   "source": [
    "snoop[\"data\"][\"full_name\"]"
   ]
  },
  {
   "cell_type": "code",
   "execution_count": null,
   "metadata": {},
   "outputs": [],
   "source": [
    "#hız km/s cinsinden\n",
    "#yakıt 100km de kaç litre cinsinden\n",
    "opel = {'renk': 'siyah', 'motor': 1.6, 'hız': 120, 'yakıt':5 }\n",
    "anadol = {'renk': 'beyaz', 'motor': 1.2, 'hız': 90, 'yakıt':6 }\n",
    "ferrari = {'renk': 'kırmızı', 'motor': 3.5, 'hız': 150, 'yakıt':10 }\n",
    "\n",
    "def sure_hesapla(araba, yol): #Yolu ne kadar sürede gideceğini verir\n",
    "    saat = yol/araba['hız']\n",
    "    return saat\n",
    "\n",
    "def yakıt_hesapla(araba, yol, benzin_fiyat):\n",
    "    #bir km de ne kdar yakıt yakar\n",
    "    km_yakıt = araba['yakıt']/100\n",
    "    return km_yakıt*yol*benzin_fiyat\n",
    "    \n",
    "\n",
    "km = 250\n",
    "benzin = 5.12\n",
    "\n",
    "anadol_saat = sure_hesapla(anadol, km)\n",
    "ferrari_saat = sure_hesapla(ferrari, km)\n",
    "\n",
    "print(\"ferrari\", ferrari_saat, \"saatte gider\")\n",
    "print(\"anadol\", anadol_saat, \"saatte gider\")\n",
    "\n",
    "print(\"ferrari\", yakıt_hesapla(ferrari,km,benzin), \"tl harcar\")\n",
    "print(\"opel\", yakıt_hesapla(opel,km,benzin), \"tl harcar\")"
   ]
  },
  {
   "cell_type": "code",
   "execution_count": null,
   "metadata": {},
   "outputs": [],
   "source": []
  }
 ],
 "metadata": {
  "kernelspec": {
   "display_name": "Python 3",
   "language": "python",
   "name": "python3"
  },
  "language_info": {
   "codemirror_mode": {
    "name": "ipython",
    "version": 3
   },
   "file_extension": ".py",
   "mimetype": "text/x-python",
   "name": "python",
   "nbconvert_exporter": "python",
   "pygments_lexer": "ipython3",
   "version": "3.6.2"
  }
 },
 "nbformat": 4,
 "nbformat_minor": 2
}
