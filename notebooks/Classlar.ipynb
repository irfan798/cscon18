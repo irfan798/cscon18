{
 "cells": [
  {
   "cell_type": "code",
   "execution_count": 8,
   "metadata": {},
   "outputs": [
    {
     "name": "stdout",
     "output_type": "stream",
     "text": [
      "ferrari 1.6666666666666667 saatte gider\n",
      "anadol 2.7777777777777777 saatte gider\n",
      "ferrari 128.0 tl harcar\n",
      "opel 64.0 tl harcar\n"
     ]
    }
   ],
   "source": [
    "#hız km/s cinsinden\n",
    "#yakıt 100km de kaç litre cinsinden\n",
    "opel = {'renk': 'siyah', 'motor': 1.6, 'hız': 120, 'yakıt':5 }\n",
    "anadol = {'renk': 'beyaz', 'motor': 1.2, 'hız': 90, 'yakıt':6 }\n",
    "ferrari = {'renk': 'kırmızı', 'motor': 3.5, 'hız': 150, 'yakıt':10 }\n",
    "\n",
    "def sure_hesapla(araba, yol): #Yolu ne kadar sürede gideceğini verir\n",
    "    saat = yol/araba['hız']\n",
    "    return saat\n",
    "\n",
    "def yakıt_hesapla(araba, yol, benzin_fiyat):\n",
    "    #bir km de ne kdar yakıt yakar\n",
    "    km_yakıt = araba['yakıt']/100\n",
    "    return km_yakıt*yol*benzin_fiyat\n",
    "    \n",
    "\n",
    "km = 250\n",
    "benzin = 5.12\n",
    "\n",
    "anadol_saat = sure_hesapla(anadol, km)\n",
    "ferrari_saat = sure_hesapla(ferrari, km)\n",
    "\n",
    "print(\"ferrari\", ferrari_saat, \"saatte gider\")\n",
    "print(\"anadol\", anadol_saat, \"saatte gider\")\n",
    "\n",
    "print(\"ferrari\", yakıt_hesapla(ferrari,km,benzin), \"tl harcar\")\n",
    "print(\"opel\", yakıt_hesapla(opel,km,benzin), \"tl harcar\")\n",
    "\n",
    "\n"
   ]
  },
  {
   "cell_type": "code",
   "execution_count": null,
   "metadata": {},
   "outputs": [],
   "source": []
  },
  {
   "cell_type": "code",
   "execution_count": 22,
   "metadata": {},
   "outputs": [
    {
     "name": "stdout",
     "output_type": "stream",
     "text": [
      "<class '__main__.Meyve'>\n"
     ]
    },
    {
     "data": {
      "text/plain": [
       "'kırmızı'"
      ]
     },
     "execution_count": 22,
     "metadata": {},
     "output_type": "execute_result"
    }
   ],
   "source": [
    "class Meyve:\n",
    "    renk=\"kırmızı\"\n",
    "    tat=\"ekşi\"\n",
    "    \n",
    "    def yazdir(self):\n",
    "        #print(\"rengim\",renk,\"tadım\",tat)\n",
    "        print(\"merhaba\")\n",
    "        \n",
    "elma = Meyve()\n",
    "print( type(elma) )\n",
    "elma.renk"
   ]
  },
  {
   "cell_type": "code",
   "execution_count": 21,
   "metadata": {},
   "outputs": [
    {
     "name": "stdout",
     "output_type": "stream",
     "text": [
      "rengim turuncu tadım ekşi\n"
     ]
    },
    {
     "data": {
      "text/plain": [
       "__main__.Meyve"
      ]
     },
     "execution_count": 21,
     "metadata": {},
     "output_type": "execute_result"
    }
   ],
   "source": [
    "class Meyve:\n",
    "    def __init__(self,renk,tat):\n",
    "        self.renk = renk\n",
    "        self.tat = tat\n",
    "    \n",
    "    def yazdir(self):\n",
    "        print(\"rengim\",self.renk,\"tadım\",self.tat)\n",
    "        \n",
    "portakal = Meyve(\"turuncu\",\"ekşi\")\n",
    "portakal.yazdir()\n",
    "#type(portakal)"
   ]
  },
  {
   "cell_type": "markdown",
   "metadata": {},
   "source": [
    "<img src=\"https://www.smart.com.au/userfiles/images/uploads/SMART-Piggybacking-Memes-Hero-Banner-3.jpg\">"
   ]
  },
  {
   "cell_type": "code",
   "execution_count": 26,
   "metadata": {},
   "outputs": [
    {
     "name": "stdout",
     "output_type": "stream",
     "text": [
      "2.0\n"
     ]
    }
   ],
   "source": [
    "class Arac:\n",
    "    def __init__(self,hız=100,yakıt=5.0):\n",
    "        self.hız = hız\n",
    "        self.yakıt = yakıt\n",
    "        self.benzin_fiyat = 5.12\n",
    "    \n",
    "    #Yolu ne kadar sürede gideceğini verir\n",
    "    def sure_hesapla(self, yol):\n",
    "        saat = yol / self.hız\n",
    "        return saat\n",
    "    #Yol boyunca ne kadar yakıt yakacak\n",
    "    def yakıt_hesapla(self, yol):\n",
    "        #bir km de ne kdar yakıt yakar\n",
    "        km_yakıt = self.yakıt / 100\n",
    "        return km_yakıt*yol*benzin_fiyat\n",
    "    \n",
    "    #verilen saatte kac km yol gider\n",
    "    def yol_hesapla(self, sure):\n",
    "        return sure*self.hız\n",
    "    \n",
    "opel = Arac(hız=120,yakıt=5)\n",
    "ferrari = Arac(150,10)\n",
    "\n",
    "print( opel.sure_hesapla(240) )\n",
    "        "
   ]
  },
  {
   "cell_type": "code",
   "execution_count": null,
   "metadata": {},
   "outputs": [],
   "source": []
  }
 ],
 "metadata": {
  "kernelspec": {
   "display_name": "Python 3",
   "language": "python",
   "name": "python3"
  },
  "language_info": {
   "codemirror_mode": {
    "name": "ipython",
    "version": 3
   },
   "file_extension": ".py",
   "mimetype": "text/x-python",
   "name": "python",
   "nbconvert_exporter": "python",
   "pygments_lexer": "ipython3",
   "version": "3.6.2"
  }
 },
 "nbformat": 4,
 "nbformat_minor": 2
}
