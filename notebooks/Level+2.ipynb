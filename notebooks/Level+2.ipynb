{
 "cells": [
  {
   "cell_type": "markdown",
   "metadata": {},
   "source": [
    "# Koşullar"
   ]
  },
  {
   "cell_type": "code",
   "execution_count": null,
   "metadata": {},
   "outputs": [],
   "source": [
    "if True:\n",
    "    print(\"doğrudur abi\")"
   ]
  },
  {
   "cell_type": "code",
   "execution_count": null,
   "metadata": {},
   "outputs": [],
   "source": [
    "if False:\n",
    "    print(\"sanırım burası çalışmayacak\")\n",
    "print(\"burası koşula girmez\")"
   ]
  },
  {
   "cell_type": "code",
   "execution_count": null,
   "metadata": {},
   "outputs": [],
   "source": [
    "x = 22\n",
    "y = 7"
   ]
  },
  {
   "cell_type": "code",
   "execution_count": null,
   "metadata": {},
   "outputs": [],
   "source": [
    "print(x > y)"
   ]
  },
  {
   "cell_type": "code",
   "execution_count": null,
   "metadata": {},
   "outputs": [],
   "source": [
    "x,y = 22,37\n",
    "if x > y:\n",
    "    print(\"x, y'den büyükmüş\")\n",
    "else:\n",
    "    print(\"x, y'den küçükmüş\")"
   ]
  },
  {
   "cell_type": "code",
   "execution_count": null,
   "metadata": {},
   "outputs": [],
   "source": [
    "if x > y:\n",
    "    print(x, y,\"den büyükmüş\")\n",
    "elif x == y:\n",
    "    print(x, y,\"e eşitmiş\")\n",
    "else:\n",
    "    print(x, y,\"den küçükmüş\")"
   ]
  },
  {
   "cell_type": "code",
   "execution_count": null,
   "metadata": {},
   "outputs": [],
   "source": [
    "#Bu degiskenleri elle gireceksek ne anlamı var?\n",
    "giris = input(\"bir şey yazınız\")\n",
    "print(giris) #type i ne"
   ]
  },
  {
   "cell_type": "markdown",
   "metadata": {},
   "source": [
    "<pre>\n",
    "< \tküçük\n",
    "<= \tküçük eşit\n",
    "> \tbüyük\n",
    ">= \tbüyük eşit\n",
    "== \teşit\n",
    "!= \teşit değil\n",
    "</pre>"
   ]
  },
  {
   "cell_type": "code",
   "execution_count": null,
   "metadata": {},
   "outputs": [],
   "source": [
    "not = input(\"Ders notunuzu giriniz:\") #bir hata yaptık\n",
    "notum = int(notum)\n",
    "\n",
    "if notum >= 94:\n",
    "    print(\"AA\")\n",
    "elif notum >= 87:\n",
    "    print(\"BA\")\n",
    "elif notum >= 80:\n",
    "    print(\"BB\")\n",
    "elif notum >= 73:\n",
    "    print(\"BC\")\n",
    "elif notum >= 65:\n",
    "    print(\"CC\")\n",
    "elif notum >= 58:\n",
    "    print(\"DC\")\n",
    "elif notum >= 50:\n",
    "    print(\"DD\")\n",
    "elif notum >= 45:\n",
    "    print(\"FD\")\n",
    "elif notum >= 0:\n",
    "    print(\"FF\")\n",
    "else:\n",
    "    print(\"Sıfırdan küçük not almayı nasıl başardın?\")\n",
    "\n",
    "print(\"almışsın\")"
   ]
  },
  {
   "cell_type": "code",
   "execution_count": null,
   "metadata": {},
   "outputs": [],
   "source": [
    "tek_çift = int( input(\"Bir sayı giriniz:\") )\n",
    "kalan = tek_çift % 2\n",
    "\n",
    "print(kalan)\n",
    "\n",
    "if kalan == 0:\n",
    "    print(\"çift\")\n",
    "else:\n",
    "    print(\"tek\")"
   ]
  },
  {
   "cell_type": "code",
   "execution_count": null,
   "metadata": {
    "scrolled": true
   },
   "outputs": [],
   "source": [
    "isim = input(\"Adın ne?\")\n",
    "print(\"merhaba \" + isim)\n",
    "\n",
    "if \"a\" in isim:\n",
    "    print(\"adında 'a' harfi var\")\n",
    "\n",
    "if \"i\" not in isim:\n",
    "    print(\"adında i harfi yok\")\n",
    "    \n",
    "'''\n",
    "if (\"a\" in isim) or (\"ı\" in isim) or (\"o\" in isim) or (\"u\" in isim):\n",
    "    print(\"kalın ünlü var\")\n",
    "else:\n",
    "    print(\"kalın ünlü yok\")\n",
    "    \n",
    "if \"a\" in isim and len(isim) > 5:\n",
    "    print(\"Adında hem a harfi var hem de 5 harften büyük\")\n",
    "'''\n",
    "\n",
    "print(\"kontroller bitti\")"
   ]
  },
  {
   "cell_type": "markdown",
   "metadata": {},
   "source": [
    "# Listeler\n",
    "### Saymaya her zaman 0 dan başlarız"
   ]
  },
  {
   "cell_type": "code",
   "execution_count": null,
   "metadata": {},
   "outputs": [],
   "source": [
    "meyve1 = \"elma\"\n",
    "meyve2 = \"armut\"\n",
    "meyve3 = \"kel mahmut\""
   ]
  },
  {
   "cell_type": "code",
   "execution_count": null,
   "metadata": {
    "scrolled": true
   },
   "outputs": [],
   "source": [
    "meyveler = [\"elma\", \"armut\", \"kel mahmut\"]\n",
    "print( meyveler[0] ) #ilk eleman\n",
    "print( meyveler[-1] ) #son eleman\n",
    "print( meyveler[:2]) #ilk 2 eleman"
   ]
  },
  {
   "cell_type": "markdown",
   "metadata": {},
   "source": [
    "<img height=\"100px\" width=\"300px\" src=\"https://fsb.zobj.net/crop.php?r=8mZhrkbY86dKcmmtKOBxr2lDTZVbl8j7PnMSWDAeSvLiGu9BwGYXuJ2gXD6Qbgd1Sxvz7E4QsplPodURgPJ7fW5XX4CUP0_LLEuQ5NFCWQ4UZ1EeNjQ8BmjEjTU3sKR2_YbwMXxS9m2h4R4W\" >"
   ]
  },
  {
   "cell_type": "code",
   "execution_count": null,
   "metadata": {},
   "outputs": [],
   "source": [
    "meyveler + [\"avakado\", \"portakal\", \"limon\"]"
   ]
  },
  {
   "cell_type": "code",
   "execution_count": null,
   "metadata": {},
   "outputs": [],
   "source": [
    "meyveler = meyveler + [\"avakado\", \"portakal\", \"limon\"]\n",
    "print( meyveler, len(meyveler) )"
   ]
  },
  {
   "cell_type": "code",
   "execution_count": null,
   "metadata": {},
   "outputs": [],
   "source": [
    "meyveler.append(\"domates\")\n",
    "print( meyveler )"
   ]
  },
  {
   "cell_type": "code",
   "execution_count": null,
   "metadata": {},
   "outputs": [],
   "source": [
    "meyveler.remove(\"kel mahmut\")\n",
    "print(meyveler)"
   ]
  },
  {
   "cell_type": "code",
   "execution_count": null,
   "metadata": {},
   "outputs": [],
   "source": [
    "meyveler[3] = \"orda kal\"\n",
    "print( meyveler )"
   ]
  },
  {
   "cell_type": "code",
   "execution_count": null,
   "metadata": {},
   "outputs": [],
   "source": [
    "mini_liste = meyveler[3:6]\n",
    "print( mini_liste )\n",
    "print( mini_liste*3 )"
   ]
  },
  {
   "cell_type": "code",
   "execution_count": null,
   "metadata": {},
   "outputs": [],
   "source": [
    "if \"domates\" in meyveler:\n",
    "    print(\"Domates bir meyvedir\")\n",
    "else:\n",
    "    print(\"Domatesi dışlamayın\")\n",
    "    "
   ]
  },
  {
   "cell_type": "code",
   "execution_count": null,
   "metadata": {},
   "outputs": [],
   "source": [
    "sayilar = [1,4,25,16,9,36]\n",
    "print( len(sayilar) )\n",
    "print( min(sayilar) )\n",
    "print( max(sayilar) )"
   ]
  },
  {
   "cell_type": "code",
   "execution_count": null,
   "metadata": {},
   "outputs": [],
   "source": [
    "sayilar.reverse()\n",
    "print( sayilar )"
   ]
  },
  {
   "cell_type": "code",
   "execution_count": null,
   "metadata": {},
   "outputs": [],
   "source": [
    "sayilar.sort()\n",
    "print( sayilar )\n",
    "sayilar.sort(reverse=True)\n",
    "print( sayilar )"
   ]
  },
  {
   "cell_type": "code",
   "execution_count": null,
   "metadata": {},
   "outputs": [],
   "source": [
    "kelime = list(\"kelime\")\n",
    "print(kelime)\n",
    "\n",
    "kelime.sort()\n",
    "print(kelime)\n",
    "\n",
    "print( min(kelime) )\n",
    "\n",
    "kelime.clear()\n",
    "print(kelime)"
   ]
  },
  {
   "cell_type": "markdown",
   "metadata": {},
   "source": [
    "### Liste içinde liste olabilir\n",
    "<img src=\"https://hackathonprojects.files.wordpress.com/2016/09/deeper-meme.jpg?w=1100\">"
   ]
  },
  {
   "cell_type": "code",
   "execution_count": null,
   "metadata": {},
   "outputs": [],
   "source": [
    "liste0 = [\"a\", \"b\", \"c\"]\n",
    "liste1 = [\"x\", \"y\", \"z\"]\n",
    "\n",
    "listeler = [liste0, liste1]\n",
    "\n",
    "print(listeler)"
   ]
  },
  {
   "cell_type": "code",
   "execution_count": null,
   "metadata": {},
   "outputs": [],
   "source": [
    "print( listeler[1][1] )"
   ]
  },
  {
   "cell_type": "code",
   "execution_count": null,
   "metadata": {},
   "outputs": [],
   "source": [
    "liste2 = [1,2,3]\n",
    "listeler.append(liste2)\n",
    "print( listeler )"
   ]
  },
  {
   "cell_type": "markdown",
   "metadata": {},
   "source": [
    "Bir de kümeler var\n",
    "\n",
    "Küme operasyonları yapabiliriz içinde\n",
    "[buradan bakabilirsiniz](https://www.programiz.com/python-programming/set)"
   ]
  },
  {
   "cell_type": "markdown",
   "metadata": {},
   "source": [
    "# Döngüler!\n",
    "\n"
   ]
  },
  {
   "cell_type": "markdown",
   "metadata": {},
   "source": [
    "Birçok yapıyı öğrendik bir çok şimdi bilgisayarın en iyi yaptığı işi öğrenmeye geldik\n",
    "<img src=\"https://encrypted-tbn0.gstatic.com/images?q=tbn:ANd9GcR6KhObNiWBrU0U4rC6xsdPRuRTNPwo7DHZTZKmbiKaAgnhcvtTow\">\n"
   ]
  },
  {
   "cell_type": "code",
   "execution_count": null,
   "metadata": {},
   "outputs": [],
   "source": [
    "dönence = 0\n",
    "\n",
    "while dönence < 10:\n",
    "    print(\"buraya dönücem \", dönence)\n",
    "    dönence = dönence+1\n",
    "    #dönence += 1\n",
    "\n",
    "print(\"while bitti\")"
   ]
  },
  {
   "cell_type": "code",
   "execution_count": null,
   "metadata": {
    "scrolled": true
   },
   "outputs": [],
   "source": [
    "#yarım piramit\n",
    "i = 0\n",
    "while i < 20:\n",
    "    i += 1\n",
    "    print(\"a\"*i)\n",
    "    #yazi = \"a\"*i\n",
    "    #print( yazi.center(80) )\n",
    "    \n",
    "print(\"while bitti\")"
   ]
  },
  {
   "cell_type": "markdown",
   "metadata": {},
   "source": [
    "Listeler ve while"
   ]
  },
  {
   "cell_type": "code",
   "execution_count": null,
   "metadata": {},
   "outputs": [],
   "source": [
    "meyveler = ['elma', 'armut', 'avakado', 'portakal', 'limon', 'domates']\n",
    "i = 0\n",
    "#print( len(meyveler) ) #6\n",
    "\n",
    "while i < len(meyveler):\n",
    "    print( meyveler[i], i)\n",
    "    #meyve = meyveler[i]\n",
    "    #if meyve == \"avakado\":\n",
    "    #    print(\"tropikal\")\n",
    "    i += 1\n",
    "    "
   ]
  },
  {
   "cell_type": "code",
   "execution_count": null,
   "metadata": {},
   "outputs": [],
   "source": [
    "sayilar = [0,1,2,3,4,5]\n",
    "i = 0\n",
    "\n",
    "while i < len(sayilar):   \n",
    "    sayilar[i] = sayilar[i]*sayilar[i]\n",
    "    #sayilar[i] *= sayilar[i]\n",
    "    #sayilar[i] = pow(sayilar[i], 3)\n",
    "    i += 1\n",
    "    \n",
    "print(sayilar)"
   ]
  },
  {
   "cell_type": "markdown",
   "metadata": {},
   "source": [
    "## For ile hayat daha kolay"
   ]
  },
  {
   "cell_type": "code",
   "execution_count": null,
   "metadata": {},
   "outputs": [],
   "source": [
    "meyveler = ['elma', 'armut', 'avakado', 'portakal', 'limon', 'domates']\n",
    "\n",
    "for meyve in meyveler: #meyveler[2:5]\n",
    "    print(meyve)\n",
    "       \n",
    "    "
   ]
  },
  {
   "cell_type": "markdown",
   "metadata": {},
   "source": [
    "range kullanımı\n",
    "range(nereden, nereye, adım_büyüklüğü)"
   ]
  },
  {
   "cell_type": "raw",
   "metadata": {},
   "source": []
  },
  {
   "cell_type": "code",
   "execution_count": null,
   "metadata": {},
   "outputs": [],
   "source": [
    "range(10)"
   ]
  },
  {
   "cell_type": "code",
   "execution_count": null,
   "metadata": {},
   "outputs": [],
   "source": [
    "list(range(10))"
   ]
  },
  {
   "cell_type": "code",
   "execution_count": null,
   "metadata": {},
   "outputs": [],
   "source": [
    "#sayi_listesi = []\n",
    "for sayi in range(5,10):\n",
    "    print(sayi)\n",
    "    \n",
    "    #sayi_listesi.append(sayi*sayi)\n",
    "    #print(sayi_listesi)"
   ]
  },
  {
   "cell_type": "code",
   "execution_count": null,
   "metadata": {},
   "outputs": [],
   "source": [
    "for sayi in range(5):\n",
    "    if sayi % 2 == 0:\n",
    "        print(sayi, \"çift sayıdır\")\n",
    "    else:\n",
    "        print(sayi, \"tek sayıdır\")"
   ]
  },
  {
   "cell_type": "markdown",
   "metadata": {},
   "source": [
    "## Kontroller\n",
    "<img src=\"https://i0.wp.com/greetyhunt.com/wp-content/uploads/2018/01/Out-Of-Control-Meme-16.jpg?fit=600%2C450\">"
   ]
  },
  {
   "cell_type": "code",
   "execution_count": null,
   "metadata": {},
   "outputs": [],
   "source": [
    "meyveler = ['elma', 'armut', 'avakado', 'portakal', 'limon', 'domates']\n",
    "\n",
    "for meyve in meyveler: #meyveler[2:5]\n",
    "    print(meyve)\n",
    "    if meyve == \"portakal\":\n",
    "        print(\"portakalı buldum baş ucuma koydum\")\n",
    "        break\n",
    "print(\"döngü bitti\")"
   ]
  },
  {
   "cell_type": "code",
   "execution_count": null,
   "metadata": {},
   "outputs": [],
   "source": [
    "meyveler = ['elma', 'armut', 'avakado', 'portakal', 'limon', 'domates']\n",
    "\n",
    "for meyve in meyveler: #meyveler[2:5]\n",
    "    if len(meyve) < 6: #6 harften küçük ise\n",
    "        continue\n",
    "    print(meyve)"
   ]
  },
  {
   "cell_type": "markdown",
   "metadata": {},
   "source": [
    "## İç içe döngüler!"
   ]
  },
  {
   "cell_type": "code",
   "execution_count": null,
   "metadata": {
    "scrolled": true
   },
   "outputs": [],
   "source": [
    "#Çarpım tablosu\n",
    "for dış in range(1,6):\n",
    "    for iç in range(1,6):\n",
    "        print(dış, \"*\", iç, \"=\", dış*iç)"
   ]
  },
  {
   "cell_type": "code",
   "execution_count": null,
   "metadata": {},
   "outputs": [],
   "source": [
    "listeler = [['a', 'b', 'c'], ['x', 'y', 'z'], [1, 2, 3]]\n",
    "\n",
    "for liste in listeler:\n",
    "    for eleman in liste:\n",
    "        print(eleman)\n"
   ]
  },
  {
   "cell_type": "code",
   "execution_count": null,
   "metadata": {},
   "outputs": [],
   "source": [
    "#Asal sayı bul\n",
    "for dış in range(2,10):\n",
    "    for iç in range(2,dış):\n",
    "        if dış % iç == 0: #dıştaki sayi içtekine tam bölünüyor ise\n",
    "            print(dış, \"=\", iç, \"*\", dış/iç )\n",
    "            break\n",
    "    else: #içteki for döngüsünün elsi\n",
    "        print(dış, \"asal sayıdır\")"
   ]
  },
  {
   "cell_type": "code",
   "execution_count": null,
   "metadata": {},
   "outputs": [],
   "source": []
  }
 ],
 "metadata": {
  "kernelspec": {
   "display_name": "Python 3",
   "language": "python",
   "name": "python3"
  },
  "language_info": {
   "codemirror_mode": {
    "name": "ipython",
    "version": 3
   },
   "file_extension": ".py",
   "mimetype": "text/x-python",
   "name": "python",
   "nbconvert_exporter": "python",
   "pygments_lexer": "ipython3",
   "version": "3.6.2"
  }
 },
 "nbformat": 4,
 "nbformat_minor": 2
}
